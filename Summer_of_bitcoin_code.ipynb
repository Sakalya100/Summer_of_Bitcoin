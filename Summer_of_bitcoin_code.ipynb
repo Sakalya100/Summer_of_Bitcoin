{
  "nbformat": 4,
  "nbformat_minor": 0,
  "metadata": {
    "colab": {
      "name": "Summer of bitcoin code.ipynb",
      "provenance": [],
      "collapsed_sections": [],
      "authorship_tag": "ABX9TyMLQgSwt8qDCjohn2wOxrol",
      "include_colab_link": true
    },
    "kernelspec": {
      "name": "python3",
      "display_name": "Python 3"
    },
    "language_info": {
      "name": "python"
    }
  },
  "cells": [
    {
      "cell_type": "markdown",
      "metadata": {
        "id": "view-in-github",
        "colab_type": "text"
      },
      "source": [
        "<a href=\"https://colab.research.google.com/github/Sakalya100/Summer_of_Bitcoin/blob/main/Summer_of_bitcoin_code.ipynb\" target=\"_parent\"><img src=\"https://colab.research.google.com/assets/colab-badge.svg\" alt=\"Open In Colab\"/></a>"
      ]
    },
    {
      "cell_type": "code",
      "metadata": {
        "id": "MqaUVFd3UCVt"
      },
      "source": [
        "import numpy as np\n",
        "import pandas as pd\n",
        "import math"
      ],
      "execution_count": 2,
      "outputs": []
    },
    {
      "cell_type": "code",
      "metadata": {
        "id": "A_ineBNMVK1h"
      },
      "source": [
        "#Reading the data file which is mempool.csv\n",
        "data=pd.read_csv('/content/sample_data/mempool.csv')"
      ],
      "execution_count": 4,
      "outputs": []
    },
    {
      "cell_type": "code",
      "metadata": {
        "colab": {
          "base_uri": "https://localhost:8080/"
        },
        "id": "jiaiNy-cVXGe",
        "outputId": "1dd6497d-3ef7-4b46-c704-948332a02406"
      },
      "source": [
        "print(data)"
      ],
      "execution_count": 5,
      "outputs": [
        {
          "output_type": "stream",
          "text": [
            "                                                  tx_id  ...                                           parents \n",
            "0     2e3da8fbc1eaca8ed9b7c2db9e6545d8ccac3c67deadee...  ...                                                NaN\n",
            "1     79c51c9d4124c5cbb37a85263748dcf44e182dff83561f...  ...  6eb38fad135e38a93cb47a15a5f953cbc0563fd84bf1ab...\n",
            "2     b0ef627c8dc2a706475d33d7712209ec779f7a8302aaea...  ...                                                NaN\n",
            "3     8c25f9be93990b96e8bc363778d6debee6867c7d73cefa...  ...                                                NaN\n",
            "4     edc82751537be6afcb21c0229d8d20916d8e742a363ab2...  ...                                                NaN\n",
            "...                                                 ...  ...                                                ...\n",
            "5209  e0b5d2fe598fccdd716df743323346da227dfc9d2a6c3e...  ...                                                NaN\n",
            "5210  e33973618a9774aeb85548368efeaddb206ef206717e72...  ...                                                NaN\n",
            "5211  88a8c7118ac82199523eb10670f49c8b7f5ac82d404907...  ...  33c7c7bcb1cc07743fc3240cac6af31e4d4a8f535cae71...\n",
            "5212  4c5b18c0870665958fc2a377e425b70f8d01f03395af72...  ...                                                NaN\n",
            "5213  631dee801c00241fc61bccc56112cf7670ce7150f4c642...  ...                                                NaN\n",
            "\n",
            "[5214 rows x 4 columns]\n"
          ],
          "name": "stdout"
        }
      ]
    },
    {
      "cell_type": "code",
      "metadata": {
        "colab": {
          "base_uri": "https://localhost:8080/"
        },
        "id": "7fCG9kQaWVOD",
        "outputId": "bcd50998-3cf1-4d4d-f81b-74486144be56"
      },
      "source": [
        "#Assigning the 1st column to txid\n",
        "txid= data.iloc[:,0]\n",
        "txid"
      ],
      "execution_count": 21,
      "outputs": [
        {
          "output_type": "execute_result",
          "data": {
            "text/plain": [
              "0       2e3da8fbc1eaca8ed9b7c2db9e6545d8ccac3c67deadee...\n",
              "1       79c51c9d4124c5cbb37a85263748dcf44e182dff83561f...\n",
              "2       b0ef627c8dc2a706475d33d7712209ec779f7a8302aaea...\n",
              "3       8c25f9be93990b96e8bc363778d6debee6867c7d73cefa...\n",
              "4       edc82751537be6afcb21c0229d8d20916d8e742a363ab2...\n",
              "                              ...                        \n",
              "5209    e0b5d2fe598fccdd716df743323346da227dfc9d2a6c3e...\n",
              "5210    e33973618a9774aeb85548368efeaddb206ef206717e72...\n",
              "5211    88a8c7118ac82199523eb10670f49c8b7f5ac82d404907...\n",
              "5212    4c5b18c0870665958fc2a377e425b70f8d01f03395af72...\n",
              "5213    631dee801c00241fc61bccc56112cf7670ce7150f4c642...\n",
              "Name: tx_id, Length: 5214, dtype: object"
            ]
          },
          "metadata": {
            "tags": []
          },
          "execution_count": 21
        }
      ]
    },
    {
      "cell_type": "code",
      "metadata": {
        "id": "QHUg2rWXXOFt",
        "colab": {
          "base_uri": "https://localhost:8080/"
        },
        "outputId": "2598e8d8-aed2-460c-dd4c-c8454cb37fdc"
      },
      "source": [
        "#Assigning the 2nd column to fees\n",
        "#Assigning the 3rd column to weights\n",
        "fees=data.iloc[:,1]\n",
        "weights= data.iloc[:,2]\n",
        "weights\n"
      ],
      "execution_count": 22,
      "outputs": [
        {
          "output_type": "execute_result",
          "data": {
            "text/plain": [
              "0       1620\n",
              "1       1136\n",
              "2        900\n",
              "3       1032\n",
              "4       1616\n",
              "        ... \n",
              "5209     568\n",
              "5210    1488\n",
              "5211     900\n",
              "5212     576\n",
              "5213     568\n",
              "Name: weight, Length: 5214, dtype: int64"
            ]
          },
          "metadata": {
            "tags": []
          },
          "execution_count": 22
        }
      ]
    },
    {
      "cell_type": "code",
      "metadata": {
        "id": "Kgx7TkJpXbOA",
        "colab": {
          "base_uri": "https://localhost:8080/"
        },
        "outputId": "7d7608de-9a61-42d1-b589-d5ae2f16b871"
      },
      "source": [
        "#Assigning the 4th column to parent\n",
        "parent=data.iloc[:,-1]\n",
        "parent"
      ],
      "execution_count": 23,
      "outputs": [
        {
          "output_type": "execute_result",
          "data": {
            "text/plain": [
              "0                                                       0\n",
              "1       6eb38fad135e38a93cb47a15a5f953cbc0563fd84bf1ab...\n",
              "2                                                       0\n",
              "3                                                       0\n",
              "4                                                       0\n",
              "                              ...                        \n",
              "5209                                                    0\n",
              "5210                                                    0\n",
              "5211    33c7c7bcb1cc07743fc3240cac6af31e4d4a8f535cae71...\n",
              "5212                                                    0\n",
              "5213                                                    0\n",
              "Name: parents , Length: 5214, dtype: object"
            ]
          },
          "metadata": {
            "tags": []
          },
          "execution_count": 23
        }
      ]
    },
    {
      "cell_type": "code",
      "metadata": {
        "id": "ewHfvyQYbQTv"
      },
      "source": [
        "#Filling the NaN values with zero for easing the coding\n",
        "data.fillna(0,inplace=True)\n"
      ],
      "execution_count": 24,
      "outputs": []
    },
    {
      "cell_type": "code",
      "metadata": {
        "colab": {
          "base_uri": "https://localhost:8080/"
        },
        "id": "dqdTd1tCfFeV",
        "outputId": "13373e13-b83e-4d17-bb8a-8d497b7a4910"
      },
      "source": [
        "parent"
      ],
      "execution_count": 25,
      "outputs": [
        {
          "output_type": "execute_result",
          "data": {
            "text/plain": [
              "0                                                       0\n",
              "1       6eb38fad135e38a93cb47a15a5f953cbc0563fd84bf1ab...\n",
              "2                                                       0\n",
              "3                                                       0\n",
              "4                                                       0\n",
              "                              ...                        \n",
              "5209                                                    0\n",
              "5210                                                    0\n",
              "5211    33c7c7bcb1cc07743fc3240cac6af31e4d4a8f535cae71...\n",
              "5212                                                    0\n",
              "5213                                                    0\n",
              "Name: parents , Length: 5214, dtype: object"
            ]
          },
          "metadata": {
            "tags": []
          },
          "execution_count": 25
        }
      ]
    },
    {
      "cell_type": "code",
      "metadata": {
        "colab": {
          "base_uri": "https://localhost:8080/"
        },
        "id": "RcOGQiM1XrQk",
        "outputId": "eea1395b-af27-4860-d843-2b500d168e7c"
      },
      "source": [
        "#The code\n",
        "income=0\n",
        "w_sum=0\n",
        "visiteds=[]\n",
        "selected=[]\n",
        "x=100000\n",
        "for i in range(len(txid)):\n",
        "  if w_sum>x:\n",
        "    break\n",
        "  else:\n",
        "    if parent[i]==0:\n",
        "      income+=fees[i]\n",
        "      w_sum+=weights[i]\n",
        "      visiteds.append(txid[i])\n",
        "      selected.append(txid[i])\n",
        "    else:\n",
        "      if parent[i] in visiteds:\n",
        "        income+=fees[i]\n",
        "        w_sum+=weights[i]\n",
        "        visiteds.append(txid[i])\n",
        "        selected.append(txid[i])\n",
        "      else:\n",
        "        continue\n",
        "\n",
        "for i in selected:\n",
        "  print(i)\n",
        "\n",
        "\n"
      ],
      "execution_count": 31,
      "outputs": [
        {
          "output_type": "stream",
          "text": [
            "2e3da8fbc1eaca8ed9b7c2db9e6545d8ccac3c67deadee95db050e41c1eedfc0\n",
            "b0ef627c8dc2a706475d33d7712209ec779f7a8302aaeab86c64cf00316a3df8\n",
            "8c25f9be93990b96e8bc363778d6debee6867c7d73cefab69405d41e677b536c\n",
            "edc82751537be6afcb21c0229d8d20916d8e742a363ab235b5556c5fa698cf4f\n",
            "384718a612cc6b220a8eeaf36f9d179e70fe233e2e906878a9c9d855292bd534\n",
            "d506243d15088e94cf5300c55c67889d61f798750f6c59b9ec6237fa1cfb9bf9\n",
            "857909bcca1f5e76d2eb78d60ecf14d6d6dcfd3691c95094f4ae6322f27d0faa\n",
            "e50935ba818134e052de9e65398faa5a28fde36a88536705f2540d86eef5f49e\n",
            "8ce84562ac4aab9c1ec15ac0c76cf0ef5ae5f9a945d717eb6c35e03e59be4657\n",
            "c1ae3a82e52066b670e43116e7bfbcb6fa0abe16088f920060fa41e09715db7d\n",
            "288ea91bb52d8cb28289f4db0d857356622e39e78f33f26bf6df2bbdd3810fad\n",
            "9f292a9f4b059396dd6240925a7d999478efc9c578e53e2dc14397f40a70d5a2\n",
            "a8f09e869e63571d0c989fbab86a13e1b5abbb359c05d88a68414e7b7614b6f2\n",
            "4df49933980376afe56bcfdfc2ad9b045ed26825a9e6b26a8b9a92f222bf8e12\n",
            "4d841d03ba8dec890356bb3d5fd9f8ad4f30ef0e589396e7f92baa2e6ccc4ad4\n",
            "a14376aaed155e41b4eb3a46ef1d6fda222f7b3ebb6e69d27afb2601dc880a6c\n",
            "43d0ee1893b75b8ab9ae6d38e320656b046d577577aff13d7e210ff8e2a6bbb8\n",
            "969ff1710715bd36fb4ab9117c46bb05f24e96ae03f39685f2ba2913dbac7476\n",
            "a8fa3e2c641f84f0d19f289433bd348086b167f83924b892d1d81ae8c27fb08b\n",
            "0e389ea0b8f8c1030a6b962166768979c9f827960c33d3e97eb3f4a9a7700f06\n",
            "f178747e600e09145303dbf994f0d905b7b404a52e7753428359ef0c0af10f04\n",
            "6238a832872993e0dd4467310a9961846eb0da02a328f37a0886b04995c354e5\n",
            "30331b9553fc41cfd25a414dab84997e4eb3c4641ad97fcae396b72ed61d21f2\n",
            "2f1b8da0deba8d742f24c721e44248a9f0a5420e196e43fe35174a3fface6817\n",
            "c9c64c10b647a5961be2bcd2fb5c9ef7682850c8e5c65e07852a4934f36ff60e\n",
            "b49ea437a30a116b29b70023d28c5b0a264bb1dacea65ef531b2046b922b7629\n",
            "5a2a8d394d0efe3b0ee992b4909ed0a16abd1105e871f1078867e77d859f8859\n",
            "0898d20de8c61090b9aeea7af88d93dd3158067ed80d110bdd61c54bd03bc236\n",
            "d0d5e240c972c10c7b8f1b2d9bf2c42486df8832d290c8d62f0905385423a313\n",
            "2d7ed421e7f42bb2aafc126b69f840d42483e5aa8de0c827b0d0406a2bd24fe2\n",
            "b338684c8df3d3a89bb0f518f9ac91e9d7f1339a746fe6c24bf4f500e48b9476\n",
            "14d5439e913b2ed2dda1b0a03e29a463db3357f159609e8f5f27b714b7d1eed1\n",
            "0bfa29c4e8071501b9a72fa6f9ed452e4d992a6d20360ca1a0a7a74f684fea00\n",
            "bea1798a9ae8478dd29d46c339cdee7036b2a32e1f1086818d317e7711582dbe\n",
            "7d8e5c9328e3c1cc71da3ffe1bbe9f6bee64d82e985202d4812f52aecea80b0e\n",
            "b41feab9f1c3b58ad0cb8f8bfba3cb8346c2f2a4a1259a1ef958556040455de5\n",
            "dff55ffef21ce82ed322564a6343ac491265a9f99c7e4f1fcf59b1f813f94301\n",
            "01eb865540f9405631ba0f22da5ad902bdfa9975ffed584bc2f16bc669063bff\n",
            "0cb5043c24b8ec10d25ec8b8d7143851cc0d9f4472b120c6a0a4a62995bea7a2\n",
            "2475635f25d4c260cb85aa5af2acc81338723ba1824a6e00f0b1b7a96aef99f2\n",
            "657dd254ae6e4fb08b433131229982f3505798b0069b0d5c312f76a9df29aac5\n",
            "f06a9e13148ec33c4b1d7ff395633a63895ca0831ee87e767f8781a80482bf9a\n",
            "7eafd5cd340c3a7c38ea09dc874cc74abd2d16b32f44e9fad9a86ad2c5c7a9d5\n",
            "ce184f7d7749971491e1a50c8c14a8944b7101f5eaedc8ff05f196c2c8eb0995\n",
            "8e0fcd94d9c9eab5680a162678aa971220d438a41cb8c6bb1c627bcaacec5d1d\n",
            "03f6e1594772cbab158fe8a05995631f787d28dbd76da270cedd52ad70af5f30\n",
            "0c4e23a5b42865a5eede4a58a278c87da8f040786a68e6db2d9f7db631879a1d\n",
            "c308cfe0ec96581bb64b8a0715546c464619fc5a5414cdca21190558da27fdbe\n",
            "8557387f6813272de916135629e33a2b9f5be34a56967718cda8ad54fb6215ae\n",
            "797ff2554f8649358b743cdfe7438248be0efe3cbde75c8883febf493c97847a\n",
            "d738d6f75f22621550027f5c1442cc8a2f2583db9f9dd1e2d745e9ee8c3d652e\n",
            "7093ca0ef47e455f434535f53db051728d246c74dc82205f23434f5b0cf2060a\n",
            "8bc2ae422ec8862b0e2f835637f99a1f98e8e46acb74cf54eb79ee3372eabf09\n",
            "22e31a366dba19c07a99aea35b69a1e2cac64bdee2e8c7a4c7f8502671e360bd\n",
            "66fa1e22e537bccfb40c5204c7c9a3372fbef6d9d8c6178f729fe47cb1609d17\n",
            "c72060d31ab8b7480f53ce613288fd80a65c158708fdf88ff6b2b67930905cb7\n",
            "683f0c14a47af9adf413e7057b321e4be9309da3829477d569e9d4766b3d5206\n",
            "aaae5b0ea0c500095e4e0cc5ecb2ebdbc6ef1980e040dbb367c60348af629435\n",
            "7fd64ad68698dcd45783e1b907ddb4982ab84ef8f1a33123a8ae381fbaf5b694\n",
            "af58188a2d83bdf38f808443bb7a6c9fc5c00eac20c9ee4f03dbd3f8dcef7e97\n",
            "57978ca4af61051f7efa13f712ce2e6d3c55c3ba6b75b1bf29aa0b0b4f70b718\n",
            "e45c729a66d6910897a740e4b0f511e52faf32920cf047f1e31761760a8cbc1c\n",
            "03e7c49bb2860ab07414874aabc3f94fa75707a22a5497c444a2fc8a62613158\n",
            "283f9fb8fab1deb2bc4c2af97df0b554ef757ae8d3e8d5b30e069fa091132463\n",
            "2dab7e8ed9f1d79a1c13953dc6139676f1b8a7e9be086685e7abe6bd74737a55\n",
            "3eb53ca54d16b6207d3948187a1b5db5428bebe1a238fcacdd7b6124998c4a17\n",
            "65daa1f0fa282f9437044dbc8d849faa3d4baca8abcbf4e01eb80d2551260f7a\n",
            "8ffc331b252a55b92eb8305820d2a6d600a6329dd0cf48c536882bea6e0b96ba\n",
            "2cad8679939d0528290421246e86c719a74db476a89a7fbba258f2a866da0627\n",
            "b5240f496b9df355034454921c0a54b999f6c3b088fb5a2b130060fa7de15c14\n",
            "f9f9218d6928b44343396785668252fee2291680175148866df7332933d3e7e9\n",
            "065110f12ae7f26ad590d8a454ef571dec403558fb709e86ee2d13f03772ec7f\n",
            "8915553283e4047eca14ddf1ec8d0e4f523f4359fcd40d07ff2dc14cc6c0c5b8\n",
            "fd5439eec06cc31aa557c74dab8ee9fac5ce7f6c76de00e11f3197bdd9d30add\n"
          ],
          "name": "stdout"
        }
      ]
    },
    {
      "cell_type": "code",
      "metadata": {
        "colab": {
          "base_uri": "https://localhost:8080/"
        },
        "id": "T0qDkQLRO1dP",
        "outputId": "c0ef5447-ce52-4845-ada2-91aac3a8c606"
      },
      "source": [
        "print(\"Total income of miner=\",income)"
      ],
      "execution_count": 30,
      "outputs": [
        {
          "output_type": "stream",
          "text": [
            "Total income of miner= 27082\n"
          ],
          "name": "stdout"
        }
      ]
    }
  ]
}